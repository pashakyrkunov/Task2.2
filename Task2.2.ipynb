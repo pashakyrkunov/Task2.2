{
 "metadata": {
  "language_info": {
   "codemirror_mode": {
    "name": "ipython",
    "version": 3
   },
   "file_extension": ".py",
   "mimetype": "text/x-python",
   "name": "python",
   "nbconvert_exporter": "python",
   "pygments_lexer": "ipython3",
   "version": "3.9.0-final"
  },
  "orig_nbformat": 2,
  "kernelspec": {
   "name": "Python 3.9.0 64-bit",
   "display_name": "Python 3.9.0 64-bit",
   "metadata": {
    "interpreter": {
     "hash": "1059b197eb79cb284fe1e4384529b7df6cfcd4ae1be4c26a4d11682d3598d805"
    }
   }
  }
 },
 "nbformat": 4,
 "nbformat_minor": 2,
 "cells": [
  {
   "cell_type": "code",
   "execution_count": 83,
   "metadata": {},
   "outputs": [],
   "source": [
    "import pandas as pd\n",
    "import numpy as np\n",
    "import math\n",
    "import json"
   ]
  },
  {
   "cell_type": "code",
   "execution_count": 84,
   "metadata": {
    "tags": []
   },
   "outputs": [
    {
     "output_type": "stream",
     "name": "stdout",
     "text": [
      "    Movie 1  Movie 2  Movie 3  Movie 4  Movie 5  Movie 6  Movie 7  Movie 8  \\\n0        -1        4        1        5       -1       -1       -1        1   \n1         4        5        2        3        3        4       -1        5   \n2         4        2        5        4        1        5       -1        3   \n3         5       -1        2       -1       -1        2        4        3   \n4         4        3        3        3        5        3        3        4   \n5         2       -1        3        3        3        3        4        2   \n6         4        1        4        4        1        4        5        2   \n7        -1        5        5        3        3        3        3        3   \n8         1        2        3        1        5        3        3        1   \n9         5       -1        1       -1        3        3        4        1   \n10       -1        5       -1        1        5        2        4        2   \n11        5        4        4       -1        3       -1        5        5   \n12        1        1        4        5        4        3        5        5   \n13        3        5        4       -1        1        2        4       -1   \n14        3        5        3        4        4       -1        4        4   \n15        3        3        5        3        2        2        5       -1   \n16        1        1       -1       -1        4        4       -1       -1   \n17        4        3        3        2        1        5        3        4   \n18        4        3        5        5        4        4       -1       -1   \n19        2       -1        2        5       -1       -1        1       -1   \n20       -1        2        1        2        3        5        4        1   \n21        2        4        4       -1        4       -1        4        5   \n22        5        1       -1        5        5       -1       -1        5   \n23        5        4        2       -1        2        1        3        2   \n24        3        1       -1        4        2       -1        4        1   \n25        1        5       -1        3       -1        2        4       -1   \n26        4        4        3       -1        4        5        3        4   \n27       -1       -1        4        2        3        2        1        4   \n28        3        2        4        2        2        2        4        1   \n29        2        3        5        4        1        3        3        2   \n30        3        5        4        5        1        3        3        3   \n31        5        4        5        4        1        5        5        4   \n32        5        3        4        4        2        1        3        1   \n33       -1        5       -1       -1        1       -1        5        1   \n34        4       -1        5        4        2        2        3        1   \n35        3        2       -1        5        5        1        5        2   \n36       -1        4       -1        3        1        4        5        4   \n37        3       -1        1        4        2        3        4       -1   \n38        1       -1        5       -1        1        2        3       -1   \n39       -1        1        1        1        1       -1        4        1   \n\n    Movie 9  Movie 10  ...  Movie 21  Movie 22  Movie 23  Movie 24  Movie 25  \\\n0         3        -1  ...         2         4        -1        -1         3   \n1         3         2  ...        -1         2        -1         3         1   \n2         5         2  ...         4        -1         5         4         5   \n3         2         3  ...        -1         2         2         2         2   \n4         5         2  ...         4         5         2        -1         3   \n5        -1         1  ...         5        -1         1         3        -1   \n6         2        -1  ...         2         5         1         3         4   \n7         1         2  ...        -1         3         1         3         2   \n8         2         5  ...         3         2         3        -1         1   \n9         1         2  ...         4         1         4         1         4   \n10        4        -1  ...         4        -1         3         4         1   \n11        5         3  ...         1         4         1         5         3   \n12        5         4  ...         2         3         2        -1         4   \n13       -1         4  ...         4         1         5         4         1   \n14        2         1  ...         2         2         5         1         3   \n15        4         4  ...         1         3         4        -1         4   \n16        1         1  ...         4         2         4         2         2   \n17        5         2  ...        -1         4         5         2         1   \n18        4         4  ...         2         3         1         2        -1   \n19        2        -1  ...        -1         2         4         1        -1   \n20        2         3  ...        -1         5         1         2         5   \n21        5         4  ...         4         5         1        -1        -1   \n22       -1         3  ...        -1        -1         3         1         5   \n23        1         2  ...         4         2         2         1         3   \n24        5         3  ...         2        -1         5         5         2   \n25        4         2  ...         5         3         1         5         2   \n26        3        -1  ...        -1         3         4         3        -1   \n27       -1         1  ...         1         3         2         1         4   \n28        3         3  ...         3        -1         3         5         5   \n29        3         1  ...         4         5         1         1         4   \n30        4         1  ...         5         4         4         3         5   \n31        4        -1  ...         5         2        -1         2         3   \n32        3         3  ...         2         1         5         5         2   \n33        1         5  ...         3         3         4        -1         3   \n34        1         5  ...         5         1         2         1         5   \n35        1         5  ...        -1         2         4         3         4   \n36        3         3  ...         3         3        -1         5        -1   \n37        5         3  ...         5         4         3        -1         1   \n38        2         5  ...         4         2         5         2         3   \n39       -1         3  ...         3         5         4         2         3   \n\n    Movie 26  Movie 27  Movie 28  Movie 29  Movie 30  \n0          4        -1         2         4         1  \n1          5        -1         5         2         2  \n2          1         2         1        -1         3  \n3          5         3         2         5         5  \n4          5         1        -1         5        -1  \n5          4         4         5         1         2  \n6         -1         4         3         1         4  \n7          1         4        -1         1         3  \n8          4         3         1         5         3  \n9          5         2         3        -1         1  \n10         2         4         2         5         1  \n11         5         4         3         5         5  \n12         3        -1         5         5         4  \n13        -1         3         1         5         3  \n14         4        -1        -1         5         4  \n15         4         4         2         4         4  \n16        -1         5         4         5         3  \n17         1         2         1        -1         4  \n18         2         5         1         2         1  \n19         2         2         3         3         4  \n20         5         4         4         2        -1  \n21         5         2         2         5        -1  \n22        -1         1         5         3         5  \n23         2         5         2         5         4  \n24        -1         1         3         1         2  \n25        -1         2         2         4        -1  \n26         3         2         3         2         5  \n27         3         2         4         2         1  \n28         5         4        -1         5        -1  \n29         5         3         1         3         5  \n30         2         2         4         4        -1  \n31         2         1         3         1        -1  \n32        -1         2         1         4         2  \n33         1         5         2         2         5  \n34         5         1        -1         5         5  \n35         5         2         1         3         4  \n36         5         2         3         5        -1  \n37         4         3        -1        -1         4  \n38         1         2         1         2         1  \n39         4         5         5         3         2  \n\n[40 rows x 30 columns]\n"
     ]
    }
   ],
   "source": [
    "data = pd.read_csv('data.csv', delimiter=', ')\n",
    "data = data.drop(columns=[data.columns[0]])\n",
    "df_day = pd.read_csv('context_day.csv', delimiter=', ')\n",
    "df_day = df_day.drop(columns=[df_day.columns[0]])\n",
    "df_place = pd.read_csv('context_place.csv', delimiter=', ')\n",
    "df_place = df_place.drop(columns=[df_place.columns[0]])\n",
    "users = data.index.tolist()\n",
    "#т.к. удаляю столбец для более удобного форматирования данных, нумерация юзеров сдвигается на -1\n",
    "my_user_number = 19\n",
    "no_rate = -1\n",
    "home = 'h'\n",
    "saturday = 'Sat'\n",
    "sunday = 'Sun'\n",
    "print(data)"
   ]
  },
  {
   "cell_type": "code",
   "execution_count": 85,
   "metadata": {},
   "outputs": [
    {
     "output_type": "stream",
     "name": "stdout",
     "text": [
      "          0   1   2   3   4   5   6   7   8   9   ...  30  31  32  33  34  35  \\\nMovie 1   -1   4   4   5   4   2   4  -1   1   5  ...   3   5   5  -1   4   3   \nMovie 2    4   5   2  -1   3  -1   1   5   2  -1  ...   5   4   3   5  -1   2   \nMovie 3    1   2   5   2   3   3   4   5   3   1  ...   4   5   4  -1   5  -1   \nMovie 4    5   3   4  -1   3   3   4   3   1  -1  ...   5   4   4  -1   4   5   \nMovie 5   -1   3   1  -1   5   3   1   3   5   3  ...   1   1   2   1   2   5   \nMovie 6   -1   4   5   2   3   3   4   3   3   3  ...   3   5   1  -1   2   1   \nMovie 7   -1  -1  -1   4   3   4   5   3   3   4  ...   3   5   3   5   3   5   \nMovie 8    1   5   3   3   4   2   2   3   1   1  ...   3   4   1   1   1   2   \nMovie 9    3   3   5   2   5  -1   2   1   2   1  ...   4   4   3   1   1   1   \nMovie 10  -1   2   2   3   2   1  -1   2   5   2  ...   1  -1   3   5   5   5   \nMovie 11   5   2   1  -1   3   5   4  -1   1  -1  ...   2   4   5   3  -1   2   \nMovie 12   5  -1  -1  -1   2   5  -1   5   2   5  ...   3   1   4   2   2   4   \nMovie 13   1   5   1  -1  -1   5   3  -1   3   5  ...  -1   1   2   2   5   3   \nMovie 14   3   5   1  -1   5   3   2   5   4   1  ...   4   1  -1   2   4   4   \nMovie 15   3   4   1  -1   3   2   3   5  -1  -1  ...   2   1  -1   5  -1   3   \nMovie 16   3   1   1   5   2   5   1   4  -1   3  ...   1   1   1   3   2  -1   \nMovie 17  -1  -1   3   3   2   1  -1   4   4   2  ...  -1   2   1   4  -1  -1   \nMovie 18   4   2   3   3   3   4  -1  -1  -1   3  ...   1   5   4   3   3  -1   \nMovie 19   2   4   3   3   1   3   2   5   5   3  ...   3   5  -1  -1  -1   2   \nMovie 20   2   5  -1   3   5  -1   3   5   3   1  ...   2   4   2   3  -1  -1   \nMovie 21   2  -1   4  -1   4   5   2  -1   3   4  ...   5   5   2   3   5  -1   \nMovie 22   4   2  -1   2   5  -1   5   3   2   1  ...   4   2   1   3   1   2   \nMovie 23  -1  -1   5   2   2   1   1   1   3   4  ...   4  -1   5   4   2   4   \nMovie 24  -1   3   4   2  -1   3   3   3  -1   1  ...   3   2   5  -1   1   3   \nMovie 25   3   1   5   2   3  -1   4   2   1   4  ...   5   3   2   3   5   4   \nMovie 26   4   5   1   5   5   4  -1   1   4   5  ...   2   2  -1   1   5   5   \nMovie 27  -1  -1   2   3   1   4   4   4   3   2  ...   2   1   2   5   1   2   \nMovie 28   2   5   1   2  -1   5   3  -1   1   3  ...   4   3   1   2  -1   1   \nMovie 29   4   2  -1   5   5   1   1   1   5  -1  ...   4   1   4   2   5   3   \nMovie 30   1   2   3   5  -1   2   4   3   3   1  ...  -1  -1   2   5   5   4   \n\n          36  37  38  39  \nMovie 1   -1   3   1  -1  \nMovie 2    4  -1  -1   1  \nMovie 3   -1   1   5   1  \nMovie 4    3   4  -1   1  \nMovie 5    1   2   1   1  \nMovie 6    4   3   2  -1  \nMovie 7    5   4   3   4  \nMovie 8    4  -1  -1   1  \nMovie 9    3   5   2  -1  \nMovie 10   3   3   5   3  \nMovie 11   1   3   3   2  \nMovie 12   1  -1   1   3  \nMovie 13  -1   3   5   5  \nMovie 14   4   2  -1   3  \nMovie 15   5   4  -1   4  \nMovie 16   4   3   4   2  \nMovie 17   3   1   1   5  \nMovie 18   2   4   4   4  \nMovie 19   4   2   3   2  \nMovie 20   1   1   4   2  \nMovie 21   3   5   4   3  \nMovie 22   3   4   2   5  \nMovie 23  -1   3   5   4  \nMovie 24   5  -1   2   2  \nMovie 25  -1   1   3   3  \nMovie 26   5   4   1   4  \nMovie 27   2   3   2   5  \nMovie 28   3  -1   1   5  \nMovie 29   5  -1   2   3  \nMovie 30  -1   4   1   2  \n\n[30 rows x 40 columns]\nIndex(['Movie 2', 'Movie 5', 'Movie 6', 'Movie 8', 'Movie 10', 'Movie 17',\n       'Movie 21', 'Movie 25'],\n      dtype='object')\n"
     ]
    }
   ],
   "source": [
    "tr_data = data.transpose()\n",
    "#неоцененные фильмы\n",
    "not_rated_movies = tr_data[tr_data[my_user_number] == no_rate].index\n",
    "print(tr_data)\n",
    "print(not_rated_movies)"
   ]
  },
  {
   "cell_type": "code",
   "execution_count": 86,
   "metadata": {
    "tags": []
   },
   "outputs": [
    {
     "output_type": "stream",
     "name": "stdout",
     "text": [
      "{16: 0.899, 22: 0.888, 7: 0.88, 27: 0.879}\n"
     ]
    }
   ],
   "source": [
    "#поиск sim\n",
    "sims = {}\n",
    "for col in tr_data:\n",
    "    if(col == my_user_number):\n",
    "        continue\n",
    "    two_users_rates = data.transpose()[[col, my_user_number]]\n",
    "    two_users_rates = two_users_rates[(two_users_rates[col] != no_rate) & (two_users_rates[my_user_number] != no_rate)]\n",
    "    numerator = 0\n",
    "    u_sum = 0\n",
    "    v_sum = 0\n",
    "    denominator = 0\n",
    "    for i in range(0, two_users_rates.shape[0]):\n",
    "        u = two_users_rates.iloc[i][col]\n",
    "        v = two_users_rates.iloc[i][my_user_number]\n",
    "        numerator += u * v\n",
    "        u_sum += u ** 2\n",
    "        v_sum += v ** 2\n",
    "    denominator = math.sqrt(u_sum) * math.sqrt(v_sum)\n",
    "    sim = round(numerator / denominator, 3)\n",
    "    sims[col] = sim\n",
    "sims = dict(sorted(sims.items(), key = lambda x: x[1], reverse = True))\n",
    "max_sims = dict(list(sims.items())[:4])\n",
    "print(max_sims)"
   ]
  },
  {
   "cell_type": "code",
   "execution_count": 87,
   "metadata": {
    "tags": []
   },
   "outputs": [
    {
     "output_type": "stream",
     "name": "stdout",
     "text": [
      "{0: 2.952, 1: 3.292, 2: 2.8, 3: 3.143, 4: 3.308, 5: 3.16, 6: 2.88, 7: 3.292, 8: 2.808, 9: 2.72, 10: 3.125, 11: 3.846, 12: 3.154, 13: 3.0, 14: 3.375, 15: 3.407, 16: 3.0, 17: 2.704, 18: 3.125, 19: 3.182, 20: 2.96, 21: 3.217, 22: 3.391, 23: 2.815, 24: 2.76, 25: 2.92, 26: 3.333, 27: 2.923, 28: 3.2, 29: 2.964, 30: 3.074, 31: 3.0, 32: 2.769, 33: 3.042, 34: 3.174, 35: 3.125, 36: 3.25, 37: 3.0, 38: 2.68, 39: 2.963}\n"
     ]
    }
   ],
   "source": [
    "#поиск средних оценок пользователей\n",
    "avg = {}\n",
    "for col in tr_data:\n",
    "    avg[col] = round(tr_data[col][tr_data[col] != no_rate].mean(), 3)\n",
    "print(avg)\n"
   ]
  },
  {
   "cell_type": "code",
   "execution_count": 88,
   "metadata": {},
   "outputs": [
    {
     "output_type": "stream",
     "name": "stdout",
     "text": [
      "{'Movie 2': 2.275, 'Movie 5': 3.785, 'Movie 6': 3.118, 'Movie 8': 3.982, 'Movie 10': 1.78, 'Movie 17': 3.783, 'Movie 21': 2.737, 'Movie 25': 3.278}\n"
     ]
    }
   ],
   "source": [
    "#рассчёт оценок неоцененных фильмов\n",
    "rates = {}\n",
    "for movie in not_rated_movies:\n",
    "    numer = 0\n",
    "    denom = 0\n",
    "    k = 1\n",
    "    sim_sum_abs = 0\n",
    "    for user in max_sims.keys():\n",
    "        #если кто-то из ближайших 4х соседей не оценил фильм - берем следующего\n",
    "        if (tr_data.loc[movie, user] == no_rate):\n",
    "            continue\n",
    "        sim_sum_abs += abs(max_sims[user])\n",
    "        numer += max_sims[user] * (tr_data.loc[movie, user] - avg[user])\n",
    "    rate = round(avg[my_user_number] + numer / sim_sum_abs, 3)\n",
    "    rates[movie] = rate\n",
    "print(rates)"
   ]
  },
  {
   "cell_type": "code",
   "execution_count": 89,
   "metadata": {},
   "outputs": [
    {
     "output_type": "stream",
     "name": "stdout",
     "text": [
      "{'Movie 2': [33, 29, 17, 7], 'Movie 5': [1, 34, 11, 20, 28], 'Movie 6': [3, 28], 'Movie 8': [17, 12], 'Movie 10': [33, 29, 21], 'Movie 17': [8, 24], 'Movie 21': [27, 14], 'Movie 25': [28, 39]}\n"
     ]
    }
   ],
   "source": [
    "#ключ - фильм, который не посмотрел пользователь\n",
    "#значение - список пользователей, которые посмотрели фильм в выходной дома\n",
    "rec_movies = {}\n",
    "for movie in not_rated_movies:\n",
    "    home_viewers = df_place[df_place[movie] == home].index.tolist()\n",
    "    weekend_movies = df_day[(df_day[movie] == saturday) | (df_day[movie] == sunday)].index.tolist()\n",
    "    rec_movies[movie] = list(set(home_viewers) & set(weekend_movies))\n",
    "print(rec_movies)"
   ]
  },
  {
   "cell_type": "code",
   "execution_count": 90,
   "metadata": {},
   "outputs": [
    {
     "output_type": "stream",
     "name": "stdout",
     "text": [
      "{'Movie 2': -0.855, 'Movie 5': 0.583, 'Movie 6': 0.987, 'Movie 8': -1.217, 'Movie 10': -0.231, 'Movie 17': -0.585, 'Movie 21': 1.414, 'Movie 25': -0.745}\nMovie 21\n"
     ]
    }
   ],
   "source": [
    "#поиск рекоммендуемого фильма\n",
    "recs = {}\n",
    "for movie in rec_movies.keys():\n",
    "    avg_rate = 0\n",
    "    for user in rec_movies[movie]:\n",
    "        avg_rate += (avg[user] - tr_data.loc[movie, user]) * sims[user]\n",
    "    if(len(rec_movies[movie]) != 0):\n",
    "        avg_rate = round(avg_rate / len(rec_movies[movie]), 3)\n",
    "        recs[movie] = avg_rate   \n",
    "    else:\n",
    "        recs[movie] = float('-inf')\n",
    "print(recs)\n",
    "rec_film = max(recs, key=recs.get)\n",
    "print(rec_film)"
   ]
  },
  {
   "cell_type": "code",
   "execution_count": 91,
   "metadata": {},
   "outputs": [
    {
     "output_type": "stream",
     "name": "stdout",
     "text": [
      "{'user': 20, 'part_1': {'Movie 2': 2.275, 'Movie 5': 3.785, 'Movie 6': 3.118, 'Movie 8': 3.982, 'Movie 10': 1.78, 'Movie 17': 3.783, 'Movie 21': 2.737, 'Movie 25': 3.278}, 'part_2': 'Movie 21'}\n"
     ]
    }
   ],
   "source": [
    "data ={}\n",
    "result = json.dumps({'user': my_user_number + 1,'part_1': rates, '2': rec_film}, indent = 4)\n",
    "result = {\n",
    "    'user': my_user_number + 1,\n",
    "    'part_1': rates,\n",
    "    'part_2': rec_film\n",
    "}\n",
    "with open('result.json', 'w') as outfile:\n",
    "    json.dump(result, outfile, indent = 4)\n",
    "print(result)"
   ]
  }
 ]
}